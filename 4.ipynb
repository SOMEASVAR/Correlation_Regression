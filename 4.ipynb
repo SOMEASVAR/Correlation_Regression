{
 "cells": [
  {
   "cell_type": "code",
   "execution_count": 1,
   "id": "5af5ca80",
   "metadata": {},
   "outputs": [
    {
     "name": "stdout",
     "output_type": "stream",
     "text": [
      "60 34 40 50 45 40 22 43 42 64\n",
      "75 32 33 40 45 33 12 30 34 51\n",
      "The coorelation coefficient is 0.562\n",
      "The regression line Y on X ::: y = 38.500 1.186 (x-44.000)\n"
     ]
    },
    {
     "data": {
      "text/plain": [
       "<matplotlib.legend.Legend at 0x26e9c332f70>"
      ]
     },
     "execution_count": 1,
     "metadata": {},
     "output_type": "execute_result"
    },
    {
     "data": {
      "image/png": "[encoded data removed]",
      "text/plain": [
       "<Figure size 432x288 with 1 Axes>"
      ]
     },
     "metadata": {
      "needs_background": "light"
     },
     "output_type": "display_data"
    }
   ],
   "source": [
    "import numpy as np\n",
    "import math\n",
    "import matplotlib.pyplot as plt\n",
    "x=[int(i) for i in input().split()]\n",
    "y=[int(i) for i in input().split()]\n",
    "N=len(x)\n",
    "sx=sy=sxy=sx2=sy2=0\n",
    "for i in range(0,N):\n",
    "    sx=sx+x[i]\n",
    "    sy=sy+y[i]\n",
    "    sxy=sxy+x[i]*y[i]\n",
    "    sx2=sx2+x[i]**2\n",
    "    sy2=sy2+x[i]**2\n",
    "r=(N*sxy-sx*sy)/(math.sqrt(N*sx2-sx**2)*math.sqrt(N*sy2-sy**2))\n",
    "print(\"The coorelation coefficient is %0.3f\"%r)\n",
    "byx=(N*sxy-sx*sy)/(N*sx2-sx**2)\n",
    "xmean=sx/N\n",
    "ymean=sy/N\n",
    "print(\"The regression line Y on X ::: y = %0.3f %0.3f (x-%0.3f)\"%(ymean,byx,xmean))\n",
    "plt.scatter(x,y)\n",
    "def Reg(x):\n",
    "    return ymean+byx*(x-xmean)\n",
    "x=np.linspace(0,80,51)\n",
    "y1=Reg(x)\n",
    "plt.plot(x,y1,'r')\n",
    "plt.xlabel('x-data')\n",
    "plt.ylabel('y-data')\n",
    "plt.legend(['regression line','data points'])\n"
   ]
  },
  {
   "cell_type": "code",
   "execution_count": null,
   "id": "e8cbaba4",
   "metadata": {},
   "outputs": [],
   "source": []
  }
 ],
 "metadata": {
  "kernelspec": {
   "display_name": "Python 3 (ipykernel)",
   "language": "python",
   "name": "python3"
  },
  "language_info": {
   "codemirror_mode": {
    "name": "ipython",
    "version": 3
   },
   "file_extension": ".py",
   "mimetype": "text/x-python",
   "name": "python",
   "nbconvert_exporter": "python",
   "pygments_lexer": "ipython3",
   "version": "3.8.12"
  }
 },
 "nbformat": 4,
 "nbformat_minor": 5
}
